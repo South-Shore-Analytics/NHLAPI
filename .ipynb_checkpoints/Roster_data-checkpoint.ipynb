{
 "cells": [
  {
   "cell_type": "code",
   "execution_count": 37,
   "id": "ae033841-6a45-482e-8a00-13b9716d1485",
   "metadata": {},
   "outputs": [],
   "source": [
    "import requests\n",
    "import time\n",
    "from google.cloud import bigquery\n",
    "from google.api_core.exceptions import NotFound\n",
    "from google.oauth2 import service_account\n",
    "\n",
    "BASE_URL = \"https://statsapi.web.nhl.com/api/v1/\""
   ]
  },
  {
   "cell_type": "code",
   "execution_count": 38,
   "id": "91820147-e543-4cd8-ad27-41cabc35b83e",
   "metadata": {},
   "outputs": [],
   "source": [
    "def get_all_teams():\n",
    "    \"\"\"Returns a list of all NHL teams with their IDs and links.\"\"\"\n",
    "    response = requests.get(BASE_URL + \"teams\")\n",
    "    return response.json()[\"teams\"]"
   ]
  },
  {
   "cell_type": "code",
   "execution_count": 39,
   "id": "c106abb8-5082-4d62-9169-cfd1fa4cd4f5",
   "metadata": {},
   "outputs": [],
   "source": [
    "def get_team_roster(team_id):\n",
    "    \"\"\"Returns the roster for a given team ID.\"\"\"\n",
    "    response = requests.get(f\"{BASE_URL}teams/{team_id}/roster\")\n",
    "    return response.json()[\"roster\"]"
   ]
  },
  {
   "cell_type": "code",
   "execution_count": 40,
   "id": "3bc11ce3-456e-444d-a263-c942609f2456",
   "metadata": {},
   "outputs": [],
   "source": [
    "# List to store all player data\n",
    "all_players = []\n",
    "seen_player_ids = set()\n",
    "\n",
    "for team in get_all_teams():\n",
    "    roster = get_team_roster(team[\"id\"])\n",
    "    for player in roster:\n",
    "        player_data = {\n",
    "            \"id\": player[\"person\"][\"id\"],\n",
    "            \"name\": player[\"person\"][\"fullName\"],\n",
    "            \"position\": player[\"position\"][\"name\"],\n",
    "            \"team_id\": team[\"id\"],\n",
    "            \"team_name\": team[\"name\"]\n",
    "        }\n",
    "        # print (player_data)\n",
    "        if player[\"person\"][\"id\"] not in seen_player_ids:\n",
    "            all_players.append(player_data)\n",
    "            seen_player_ids.add(player[\"person\"][\"id\"])\n",
    "\n",
    "errors = client.insert_rows_json(table_ref, all_players)\n",
    "if errors:\n",
    "    print(\"Encountered errors while inserting rows: {}\".format(errors))"
   ]
  },
  {
   "cell_type": "code",
   "execution_count": 41,
   "id": "fa0059df-0049-4fd0-b3d0-c20237bcb31c",
   "metadata": {},
   "outputs": [
    {
     "name": "stdout",
     "output_type": "stream",
     "text": [
      "Rows added to the table!\n"
     ]
    }
   ],
   "source": [
    "# Path to your service account key file\n",
    "SERVICE_ACCOUNT_FILE = r\"C:\\Users\\burke\\NHL\\KEY\\nhlapi-402220-e6d39a7f266a.json\"\n",
    "\n",
    "# Create credentials from the service account file\n",
    "credentials = service_account.Credentials.from_service_account_file(SERVICE_ACCOUNT_FILE)\n",
    "\n",
    "# Use the credentials to initialize the BigQuery client\n",
    "client = bigquery.Client(credentials=credentials, project='nhlapi-402220')\n",
    "\n",
    "# Set the table reference\n",
    "dataset_ref = client.dataset('nhl_raw')\n",
    "table_ref = dataset_ref.table('latest_rosters')\n",
    "# Check if table exists, if not, create it\n",
    "try:\n",
    "    client.get_table(table_ref)\n",
    "except NotFound:\n",
    "    schema = [\n",
    "        bigquery.SchemaField(\"id\", \"INT64\", mode=\"REQUIRED\"),\n",
    "        bigquery.SchemaField(\"name\", \"STRING\", mode=\"REQUIRED\"),\n",
    "        bigquery.SchemaField(\"position\", \"STRING\", mode=\"REQUIRED\"),\n",
    "        bigquery.SchemaField(\"team_id\", \"INT64\", mode=\"REQUIRED\"),\n",
    "        bigquery.SchemaField(\"team_name\", \"STRING\", mode=\"REQUIRED\")\n",
    "    ]\n",
    "    table = bigquery.Table(table_ref, schema=schema)\n",
    "    table = client.create_table(table)\n",
    "    print(\"Created table {}\".format(table.full_table_id))\n",
    "# Insert data into the table\n",
    "errors = client.insert_rows_json(table_ref, all_players)\n",
    "if errors:\n",
    "    print(\"Encountered errors while inserting rows: {}\".format(errors))\n",
    "else:\n",
    "    print(\"Rows added to the table!\")"
   ]
  }
 ],
 "metadata": {
  "kernelspec": {
   "display_name": "Python 3 (ipykernel)",
   "language": "python",
   "name": "python3"
  },
  "language_info": {
   "codemirror_mode": {
    "name": "ipython",
    "version": 3
   },
   "file_extension": ".py",
   "mimetype": "text/x-python",
   "name": "python",
   "nbconvert_exporter": "python",
   "pygments_lexer": "ipython3",
   "version": "3.11.6"
  }
 },
 "nbformat": 4,
 "nbformat_minor": 5
}
