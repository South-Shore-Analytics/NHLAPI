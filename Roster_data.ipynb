{
 "cells": [
  {
   "cell_type": "code",
   "execution_count": 103,
   "id": "ae033841-6a45-482e-8a00-13b9716d1485",
   "metadata": {},
   "outputs": [],
   "source": [
    "import requests\n",
    "import time\n",
    "\n",
    "BASE_URL = \"https://statsapi.web.nhl.com/api/v1/\""
   ]
  },
  {
   "cell_type": "code",
   "execution_count": 104,
   "id": "91820147-e543-4cd8-ad27-41cabc35b83e",
   "metadata": {},
   "outputs": [],
   "source": [
    "def get_all_teams():\n",
    "    \"\"\"Returns a list of all NHL teams with their IDs and links.\"\"\"\n",
    "    response = requests.get(BASE_URL + \"teams\")\n",
    "    return response.json()[\"teams\"]"
   ]
  },
  {
   "cell_type": "code",
   "execution_count": 105,
   "id": "c106abb8-5082-4d62-9169-cfd1fa4cd4f5",
   "metadata": {},
   "outputs": [],
   "source": [
    "def get_team_roster(team_id):\n",
    "    \"\"\"Returns the roster for a given team ID.\"\"\"\n",
    "    response = requests.get(f\"{BASE_URL}teams/{team_id}/roster\")\n",
    "    return response.json()[\"roster\"]"
   ]
  },
  {
   "cell_type": "code",
   "execution_count": 106,
   "id": "03f90d04-dcb8-4651-9e65-3f2e27c40ac4",
   "metadata": {},
   "outputs": [],
   "source": [
    "# List to store all player data\n",
    "all_players = []"
   ]
  },
  {
   "cell_type": "code",
   "execution_count": 107,
   "id": "3bc11ce3-456e-444d-a263-c942609f2456",
   "metadata": {},
   "outputs": [],
   "source": [
    "for team in get_all_teams():\n",
    "    roster = get_team_roster(team[\"id\"])\n",
    "    for player in roster:\n",
    "        player_data = {\n",
    "            \"id\": player[\"person\"][\"id\"],\n",
    "            \"name\": player[\"person\"][\"fullName\"],\n",
    "            \"position\": player[\"position\"][\"name\"],\n",
    "            \"team_id\": team[\"id\"],\n",
    "            \"team_name\": team[\"name\"]\n",
    "        }\n",
    "        # print (player_data)\n",
    "     "
   ]
  },
  {
   "cell_type": "code",
   "execution_count": null,
   "id": "fa0059df-0049-4fd0-b3d0-c20237bcb31c",
   "metadata": {},
   "outputs": [],
   "source": []
  }
 ],
 "metadata": {
  "kernelspec": {
   "display_name": "Python 3 (ipykernel)",
   "language": "python",
   "name": "python3"
  },
  "language_info": {
   "codemirror_mode": {
    "name": "ipython",
    "version": 3
   },
   "file_extension": ".py",
   "mimetype": "text/x-python",
   "name": "python",
   "nbconvert_exporter": "python",
   "pygments_lexer": "ipython3",
   "version": "3.11.6"
  }
 },
 "nbformat": 4,
 "nbformat_minor": 5
}
